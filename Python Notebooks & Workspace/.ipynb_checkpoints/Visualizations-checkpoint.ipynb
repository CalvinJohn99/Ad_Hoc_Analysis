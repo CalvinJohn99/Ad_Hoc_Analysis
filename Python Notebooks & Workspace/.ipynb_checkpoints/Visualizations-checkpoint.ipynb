{
 "cells": [
  {
   "cell_type": "code",
   "execution_count": 1,
   "id": "beedca80",
   "metadata": {},
   "outputs": [],
   "source": [
    "# import pandas library using alias pd\n",
    "import pandas as pd\n",
    "\n",
    "# import numpy with alias np\n",
    "import numpy as np\n",
    "\n",
    "#import seaborn with alias sns\n",
    "import seaborn as sns\n",
    "\n",
    "import squarify \n",
    "from matplotlib import pyplot as plt\n",
    "%matplotlib inline"
   ]
  },
  {
   "cell_type": "code",
   "execution_count": null,
   "id": "03983157",
   "metadata": {},
   "outputs": [],
   "source": [
    "fact_survey_responses = pd.read_csv(filepath_or_buffer='Dataset/fact_survey_responses.csv')"
   ]
  },
  {
   "cell_type": "code",
   "execution_count": null,
   "id": "bd679ad6",
   "metadata": {},
   "outputs": [],
   "source": [
    "dim_respondents = pd.read_csv(filepath_or_buffer='Dataset/dim_repondents.csv')"
   ]
  },
  {
   "cell_type": "code",
   "execution_count": null,
   "id": "2f16eb8a",
   "metadata": {},
   "outputs": [],
   "source": [
    "dim_cities = pd.read_csv(filepath_or_buffer='Dataset/dim_cities.csv')"
   ]
  },
  {
   "cell_type": "code",
   "execution_count": null,
   "id": "8439c4c6",
   "metadata": {},
   "outputs": [],
   "source": [
    "survey_respondents = pd.merge(left=fact_survey_responses, right=dim_respondents,\n",
    "                        how='inner', on='Respondent_ID')"
   ]
  },
  {
   "cell_type": "code",
   "execution_count": null,
   "id": "929d3dea",
   "metadata": {},
   "outputs": [],
   "source": [
    "full_data = pd.merge(left=survey_respondents, right=dim_cities,\n",
    "                        how='inner', on='City_ID')\n",
    "full_data.head(5)"
   ]
  },
  {
   "cell_type": "code",
   "execution_count": null,
   "id": "7b103911",
   "metadata": {},
   "outputs": [],
   "source": [
    "full_data.shape"
   ]
  },
  {
   "cell_type": "markdown",
   "id": "1bb4e4f4",
   "metadata": {},
   "source": [
    "# 1"
   ]
  },
  {
   "cell_type": "code",
   "execution_count": null,
   "id": "4bbaec20",
   "metadata": {},
   "outputs": [],
   "source": [
    "gender_total_consumption = pd.read_csv(filepath_or_buffer='csv_insights_exports/1/Gender_Total_consumption.csv')"
   ]
  },
  {
   "cell_type": "code",
   "execution_count": null,
   "id": "3e373265",
   "metadata": {},
   "outputs": [],
   "source": [
    "# Make a pie chart\n",
    "plt.pie(gender_total_consumption['total_consumption_count_per_month'], autopct='%1.1f%%')\n",
    "plt.legend(gender_total_consumption['Gender'], loc=\"upper right\", bbox_to_anchor=(0.7, 0.5, 0.5, 0.5))"
   ]
  },
  {
   "cell_type": "code",
   "execution_count": null,
   "id": "a45de6b6",
   "metadata": {
    "scrolled": false
   },
   "outputs": [],
   "source": [
    "gender_avg_consumption = pd.read_csv(filepath_or_buffer='csv_insights_exports/1/Gender_Average_consumption.csv')\n",
    "gender_avg_consumption['avg_consumption_count_per_month'].plot.bar(xlabel=\"Gender\", ylabel=\"Average Monthly Consumption\", grid=False, title=\"Distribution of Average Energy Drink Consumption per Month\")\n",
    "plt.xticks(ticks=[0, 1, 2], labels=list(gender_avg_consumption.Gender), rotation=0);\n",
    "# Set the axes title font size\n",
    "plt.xlabel('Gender', fontsize=16, labelpad=20)\n",
    "plt.ylabel('Average Monthly Consumption', fontsize=16, labelpad=20)"
   ]
  },
  {
   "cell_type": "code",
   "execution_count": null,
   "id": "b94d5148",
   "metadata": {
    "scrolled": false
   },
   "outputs": [],
   "source": [
    "gender_respondent_count = pd.read_csv(filepath_or_buffer='csv_insights_exports/1/Gender_Respondent_count.csv')\n",
    "plt.pie(gender_respondent_count['respondent_count'], autopct='%1.1f%%')\n",
    "plt.legend(gender_respondent_count['Gender'], loc=\"upper right\", bbox_to_anchor=(0.7, 0.5, 0.5, 0.5))"
   ]
  },
  {
   "cell_type": "code",
   "execution_count": null,
   "id": "861160f6",
   "metadata": {
    "scrolled": false
   },
   "outputs": [],
   "source": [
    "age_total_consumption = pd.read_csv(filepath_or_buffer='csv_insights_exports/1/Age_Total_consumption.csv')\n",
    "plt.pie(age_total_consumption['total_consumption_count_per_month'], autopct='%1.1f%%')\n",
    "plt.legend(age_total_consumption['Age_group'], loc=\"upper right\", bbox_to_anchor=(0.7, 0.5, 0.5, 0.5))"
   ]
  },
  {
   "cell_type": "code",
   "execution_count": null,
   "id": "05f80db8",
   "metadata": {},
   "outputs": [],
   "source": [
    "age_avg_consumption = pd.read_csv(filepath_or_buffer='csv_insights_exports/1/Age_Average_consumption.csv')\n",
    "age_avg_consumption['avg_consumption_count_per_month'].plot.bar(xlabel=\"Age_group\", ylabel=\"Average Monthly Consumption\", grid=False, title=\"Distribution of Average Energy Drink Consumption per Month\")\n",
    "plt.xticks(ticks=[0, 1, 2, 3, 4], labels=list(age_avg_consumption.Age_group), rotation=0);\n",
    "plt.xlabel('Age Group', fontsize=16, labelpad=20)\n",
    "plt.ylabel('Average Monthly Consumption', fontsize=16, labelpad=20)"
   ]
  },
  {
   "cell_type": "code",
   "execution_count": null,
   "id": "a2cd26e5",
   "metadata": {
    "scrolled": false
   },
   "outputs": [],
   "source": [
    "age_respondent_count = pd.read_csv(filepath_or_buffer='csv_insights_exports/1/Age_Respondent_count.csv')\n",
    "plt.pie(age_respondent_count['respondent_count'], autopct='%1.1f%%')\n",
    "plt.legend(age_respondent_count['Age_group'], loc=\"upper right\", bbox_to_anchor=(0.7, 0.5, 0.5, 0.5))"
   ]
  },
  {
   "cell_type": "code",
   "execution_count": null,
   "id": "3a72efe1",
   "metadata": {},
   "outputs": [],
   "source": [
    "youth_channels = pd.read_csv(filepath_or_buffer='csv_insights_exports/1/Youth_marketing_channels.csv')\n",
    "youth_channels['respondent_count'].plot.bar(xlabel=\"Marketing Channel\", ylabel=\"Respondent Count\", grid=False, title=\"Distribution of Respondent Count\")\n",
    "plt.xticks(ticks=[0, 1, 2, 3, 4], labels=list(youth_channels.Marketing_channels), rotation = 20);\n",
    "plt.xlabel('Marketing Channel', fontsize=16, labelpad=20)\n",
    "plt.ylabel('Respondent Count', fontsize=16, labelpad=20)"
   ]
  },
  {
   "cell_type": "markdown",
   "id": "35b6389f",
   "metadata": {},
   "source": [
    "# 2"
   ]
  },
  {
   "cell_type": "code",
   "execution_count": null,
   "id": "2793d549",
   "metadata": {},
   "outputs": [],
   "source": [
    "ingredients_expected = pd.read_csv(filepath_or_buffer='csv_insights_exports/2/ingredients_expected.csv')\n",
    "ingredients_expected['respondent_count'].plot.bar(xlabel=\"Ingredient\", ylabel=\"Respondent Count\", grid=False, title=\"Distribution of Respondent Count\")\n",
    "plt.xticks(ticks=[0, 1, 2, 3], labels=list(ingredients_expected.Ingredients_expected), rotation = 0);\n",
    "plt.xlabel('Ingredients Expected', fontsize=16, labelpad=20)\n",
    "plt.ylabel('Respondent Count', fontsize=16, labelpad=20)"
   ]
  },
  {
   "cell_type": "code",
   "execution_count": null,
   "id": "d390ba9a",
   "metadata": {},
   "outputs": [],
   "source": [
    "improvements_desired = pd.read_csv(filepath_or_buffer='csv_insights_exports/2/Improvements_desired.csv')\n",
    "plt.pie(improvements_desired['respondent_count'], autopct='%1.1f%%')\n",
    "plt.legend(improvements_desired['Improvements_desired'], loc=\"upper right\", bbox_to_anchor=(1, 0.5, 0.5, 0.5))"
   ]
  },
  {
   "cell_type": "code",
   "execution_count": null,
   "id": "223dcc8a",
   "metadata": {},
   "outputs": [],
   "source": [
    "natural_organic = pd.read_csv(filepath_or_buffer='csv_insights_exports/2/interest_in_natural_or_organic.csv')\n",
    "plt.pie(natural_organic['respondent_count'], autopct='%1.1f%%')\n",
    "plt.legend(natural_organic['Interest_in_natural_or_organic'], loc=\"upper right\", bbox_to_anchor=(0.7, 0.5, 0.5, 0.5))"
   ]
  },
  {
   "cell_type": "code",
   "execution_count": null,
   "id": "a4770a1b",
   "metadata": {
    "scrolled": false
   },
   "outputs": [],
   "source": [
    "packaging_preference = pd.read_csv(filepath_or_buffer='csv_insights_exports/2/Packaging_preference.csv')\n",
    "plt.pie(packaging_preference['respondent_count'], autopct='%1.1f%%')\n",
    "plt.legend(packaging_preference['Packaging_preference'], loc=\"upper right\", bbox_to_anchor=(1.1, 0.5, 0.5, 0.5))"
   ]
  },
  {
   "cell_type": "markdown",
   "id": "28fe6c79",
   "metadata": {},
   "source": [
    "# 3"
   ]
  },
  {
   "cell_type": "code",
   "execution_count": null,
   "id": "48d35df8",
   "metadata": {},
   "outputs": [],
   "source": [
    "market_leaders = pd.read_csv(filepath_or_buffer='csv_insights_exports/3/market_leaders.csv')\n",
    "market_leaders['respondent_count'].plot.bar(xlabel=\"Ingredient\", ylabel=\"Respondent Count\", grid=False, title=\"Distribution of Respondent Count\")\n",
    "plt.xticks(ticks=[0, 1, 2, 3, 4, 5, 6], labels=list(market_leaders.current_brands), rotation = 0);\n",
    "plt.xlabel('Current Brands', fontsize=16, labelpad=20)\n",
    "plt.ylabel('Respondent Count', fontsize=16, labelpad=20)"
   ]
  },
  {
   "cell_type": "code",
   "execution_count": null,
   "id": "0cd35833",
   "metadata": {
    "scrolled": false
   },
   "outputs": [],
   "source": [
    "market_leaders_reasons = pd.read_csv(filepath_or_buffer='csv_insights_exports/3/Reasons_for_market_leaders.csv')\n",
    "market_leaders_reasons['respondent_count'].plot.bar(xlabel=\"Ingredient\", ylabel=\"Respondent Count\", grid=False, title=\"Distribution of Respondent Count\")\n",
    "plt.xticks(ticks=[0, 1, 2, 3, 4], labels=list(market_leaders_reasons.reasons_for_choosing_brands), rotation = 30);\n",
    "plt.xlabel('Reasons for Choosing Brands', fontsize=16, labelpad=20)\n",
    "plt.ylabel('Respondent Count', fontsize=16, labelpad=20)"
   ]
  },
  {
   "cell_type": "markdown",
   "id": "47e29b33",
   "metadata": {},
   "source": [
    "# 4"
   ]
  },
  {
   "cell_type": "code",
   "execution_count": null,
   "id": "2ce1f1e2",
   "metadata": {},
   "outputs": [],
   "source": [
    "marketing_channels = pd.read_csv(filepath_or_buffer='csv_insights_exports/4/Top_marketing_channels.csv')\n",
    "marketing_channels['respondent_count'].plot.bar(xlabel=\"Ingredient\", ylabel=\"Respondent Count\", grid=False, title=\"Distribution of Respondent Count\")\n",
    "plt.xticks(ticks=[0, 1, 2, 3, 4], labels=list(marketing_channels.marketing_channels), rotation = 30);\n",
    "plt.xlabel('Marketing Channel', fontsize=16, labelpad=20)\n",
    "plt.ylabel('Respondent Count', fontsize=16, labelpad=20)"
   ]
  },
  {
   "cell_type": "code",
   "execution_count": null,
   "id": "c381cde5",
   "metadata": {
    "scrolled": false
   },
   "outputs": [],
   "source": [
    "marketing_channels_heard_before = pd.read_csv(filepath_or_buffer='csv_insights_exports/4/Top_marketing_channels_Heard_before.csv')\n",
    "marketing_channels_heard_before['channel_counts'].plot.bar(xlabel=\"Ingredient\", ylabel=\"Respondent Count\", grid=False, title=\"Distribution of Respondent Count\")\n",
    "plt.xticks(ticks=[0, 1, 2, 3, 4], labels=list(marketing_channels_heard_before.Marketing_channels), rotation = 30);\n",
    "plt.xlabel('Marketing Channel', fontsize=16, labelpad=20)\n",
    "plt.ylabel('Respondent Count', fontsize=16, labelpad=20)"
   ]
  },
  {
   "cell_type": "code",
   "execution_count": null,
   "id": "93dfb5fe",
   "metadata": {},
   "outputs": [],
   "source": [
    "marketing_channels_current_brand = pd.read_csv(filepath_or_buffer='csv_insights_exports/4/Top_marketing_channels_current_brand.csv')\n",
    "marketing_channels_current_brand['respondent_count'].plot.bar(xlabel=\"Ingredient\", ylabel=\"Respondent Count\", grid=False, title=\"Distribution of Respondent Count\")\n",
    "plt.xticks(ticks=[0, 1, 2, 3, 4], labels=list(marketing_channels_current_brand.Marketing_channels), rotation = 30);\n",
    "plt.xlabel('Marketing Channel', fontsize=16, labelpad=20)\n",
    "plt.ylabel('Respondent Count', fontsize=16, labelpad=20)"
   ]
  },
  {
   "cell_type": "markdown",
   "id": "b46f430e",
   "metadata": {},
   "source": [
    "# 5"
   ]
  },
  {
   "cell_type": "code",
   "execution_count": null,
   "id": "eb89a204",
   "metadata": {},
   "outputs": [],
   "source": [
    "avg_experience = pd.read_csv(filepath_or_buffer='csv_insights_exports/5/avg_taste_experience.csv')\n",
    "avg_experience.head(5)"
   ]
  },
  {
   "cell_type": "code",
   "execution_count": null,
   "id": "b0b67c75",
   "metadata": {},
   "outputs": [],
   "source": [
    "brand_perception = pd.read_csv(filepath_or_buffer='csv_insights_exports/5/Brand_perception.csv')\n",
    "plt.pie(brand_perception['respondent_count'], autopct='%1.1f%%')\n",
    "plt.legend(brand_perception['Brand_perception'], loc=\"upper right\", bbox_to_anchor=(0.7, 0.5, 0.5, 0.5))"
   ]
  },
  {
   "cell_type": "code",
   "execution_count": null,
   "id": "cb666612",
   "metadata": {
    "scrolled": false
   },
   "outputs": [],
   "source": [
    "reasons_preventing_trying = pd.read_csv(filepath_or_buffer='csv_insights_exports/5/Reasons_preventing_trying.csv')"
   ]
  },
  {
   "cell_type": "code",
   "execution_count": null,
   "id": "6184a7c3",
   "metadata": {},
   "outputs": [],
   "source": [
    "brand_perception_cities = pd.read_csv(filepath_or_buffer='csv_insights_exports/5/Brand_perception_in_cities.csv')\n",
    "brand_perception_cities.head(5)"
   ]
  },
  {
   "cell_type": "code",
   "execution_count": null,
   "id": "b393d8c9",
   "metadata": {},
   "outputs": [],
   "source": [
    "cities_to_work = pd.read_csv(filepath_or_buffer='csv_insights_exports/5/Cities_to_work_on.csv')\n",
    "cities_to_work['respondent_count'].plot.bar(xlabel=\"Ingredient\", ylabel=\"Respondent Count\", grid=False, title=\"Distribution of Respondent Count\")\n",
    "plt.xticks(ticks=[0,1,2,3,4,5,6,7,8,9], labels=list(cities_to_work.city), rotation = 60);\n",
    "plt.xlabel('City', fontsize=16, labelpad=20)\n",
    "plt.ylabel('Respondent Count', fontsize=16, labelpad=20)"
   ]
  },
  {
   "cell_type": "code",
   "execution_count": null,
   "id": "55a88f82",
   "metadata": {
    "scrolled": false
   },
   "outputs": [],
   "source": [
    "cities_to_work_codex = pd.read_csv(filepath_or_buffer='csv_insights_exports/5/Cities_to_work_on_CodeX.csv')\n",
    "cities_to_work_codex['respondent_count'].plot.bar(xlabel=\"Ingredient\", ylabel=\"Respondent Count\", grid=False, title=\"Distribution of Respondent Count\")\n",
    "plt.xticks(ticks=[0,1,2,3,4,5,6,7,8,9], labels=list(cities_to_work.city), rotation = 60);\n",
    "plt.xlabel('City', fontsize=16, labelpad=20)\n",
    "plt.ylabel('Respondent Count', fontsize=16, labelpad=20)"
   ]
  },
  {
   "cell_type": "code",
   "execution_count": null,
   "id": "60f27233",
   "metadata": {},
   "outputs": [],
   "source": [
    "cities_to_work_heard_before = pd.read_csv(filepath_or_buffer='csv_insights_exports/5/Cities_to_work_on_heard_before.csv')\n",
    "cities_to_work_heard_before['respondent_count'].plot.bar(xlabel=\"Ingredient\", ylabel=\"Respondent Count\", grid=False, title=\"Distribution of Respondent Count\")\n",
    "plt.xticks(ticks=[0,1,2,3,4,5,6,7,8,9], labels=list(cities_to_work_heard_before.city), rotation = 60);\n",
    "plt.xlabel('City', fontsize=16, labelpad=20)\n",
    "plt.ylabel('Respondent Count', fontsize=16, labelpad=20)"
   ]
  },
  {
   "cell_type": "code",
   "execution_count": null,
   "id": "426f698d",
   "metadata": {},
   "outputs": [],
   "source": [
    "not_heard_indices = full_data.loc[full_data[\"Heard_before\"] == \"No\", \"Heard_before\"].index\n",
    "not_heard = full_data.loc[not_heard_indices, \"City\"].reset_index()\n",
    "not_heard_cities = not_heard.groupby('City').count().sort_values(by='index', ascending=False).reset_index()\n",
    "not_heard_cities.plot.bar(xlabel=\"Ingredient\", ylabel=\"Respondent Count\", grid=False, title=\"Distribution of Not Heard\")\n",
    "plt.xticks(ticks=[0,1,2,3,4,5,6,7,8,9], labels=list(not_heard_cities.City), rotation = 60);\n",
    "plt.xlabel('City', fontsize=16, labelpad=20)\n",
    "plt.ylabel('Not Heard Count', fontsize=16, labelpad=20)"
   ]
  },
  {
   "cell_type": "code",
   "execution_count": null,
   "id": "679b34fd",
   "metadata": {},
   "outputs": [],
   "source": [
    "negative_indices = full_data.loc[full_data[\"Brand_perception\"] == \"Negative\", \"Brand_perception\"].index\n",
    "negativity_in_cities = full_data.loc[negative_indices, \"City\"].reset_index()\n",
    "negativity_in_cities = negativity_in_cities.groupby('City').count().sort_values(by='index', ascending=False).reset_index()\n",
    "negativity_in_cities.plot.bar(xlabel=\"Ingredient\", ylabel=\"Respondent Count\", grid=False, title=\"Distribution of Negative Perception\")\n",
    "plt.xticks(ticks=[0,1,2,3,4,5,6,7,8,9], labels=list(negativity_in_cities.City), rotation = 60);\n",
    "plt.xlabel('City', fontsize=16, labelpad=20)\n",
    "plt.ylabel('Negative Perception', fontsize=16, labelpad=20)"
   ]
  },
  {
   "cell_type": "code",
   "execution_count": null,
   "id": "3cba47b9",
   "metadata": {
    "scrolled": true
   },
   "outputs": [],
   "source": [
    "cities_heard_before = pd.read_csv(filepath_or_buffer='csv_insights_exports/5/Heard_before_in_cities.csv')\n",
    "cities_heard_before.head(5)"
   ]
  },
  {
   "cell_type": "code",
   "execution_count": null,
   "id": "d6df9319",
   "metadata": {},
   "outputs": [],
   "source": [
    "cities_tried_before = pd.read_csv(filepath_or_buffer='csv_insights_exports/5/Tried_before_in_cities.csv')\n",
    "cities_tried_before.head(5)"
   ]
  },
  {
   "cell_type": "code",
   "execution_count": null,
   "id": "70400733",
   "metadata": {},
   "outputs": [],
   "source": [
    "cities_health_concerns = pd.read_csv(filepath_or_buffer='csv_insights_exports/5/Health_concerns_in_cities.csv')\n",
    "cities_health_concerns.head(5)"
   ]
  },
  {
   "cell_type": "markdown",
   "id": "18d67521",
   "metadata": {},
   "source": [
    "# 6"
   ]
  },
  {
   "cell_type": "code",
   "execution_count": null,
   "id": "8f7e50fe",
   "metadata": {},
   "outputs": [],
   "source": [
    "purchase_location = pd.read_csv(filepath_or_buffer='csv_insights_exports/6/purchase_location.csv')\n",
    "purchase_location['respondent_count'].plot.bar(xlabel=\"Ingredient\", ylabel=\"Respondent Count\", grid=False, title=\"Distribution of Respondent Count\")\n",
    "plt.xticks(ticks=[0,1,2,3,4], labels=list(purchase_location.purchase_location), rotation = 50);\n",
    "plt.xlabel('Purchase Location', fontsize=16, labelpad=20)\n",
    "plt.ylabel('Respondent Count', fontsize=16, labelpad=20)"
   ]
  },
  {
   "cell_type": "code",
   "execution_count": null,
   "id": "a7394260",
   "metadata": {},
   "outputs": [],
   "source": [
    "consumption_situations = pd.read_csv(filepath_or_buffer='csv_insights_exports/6/Typical_consumption_situation.csv')\n",
    "plt.pie(consumption_situations['respondent_count'], autopct='%1.1f%%')\n",
    "plt.legend(consumption_situations['Typical_consumption_situations'], loc=\"upper right\", bbox_to_anchor=(1, 0.5, 0.5, 0.5))"
   ]
  },
  {
   "cell_type": "code",
   "execution_count": null,
   "id": "583d7d5e",
   "metadata": {},
   "outputs": [],
   "source": [
    "consume_reasons = pd.read_csv(filepath_or_buffer='csv_insights_exports/6/Consume_reasons.csv')\n",
    "plt.pie(consume_reasons['respondent_count'], autopct='%1.1f%%')\n",
    "plt.legend(consume_reasons['consume_reason'], loc=\"upper right\", bbox_to_anchor=(1.2, 0.5, 0.5, 0.5))"
   ]
  },
  {
   "cell_type": "code",
   "execution_count": null,
   "id": "6b3cddf9",
   "metadata": {},
   "outputs": [],
   "source": [
    "consume_time = pd.read_csv(filepath_or_buffer='csv_insights_exports/6/Consume_time.csv')\n",
    "plt.pie(consume_time['respondent_count'], autopct='%1.1f%%')\n",
    "plt.legend(consume_time['consume_time'], loc=\"upper right\", bbox_to_anchor=(1.2, 0.5, 0.5, 0.5))"
   ]
  },
  {
   "cell_type": "code",
   "execution_count": null,
   "id": "cbbca76c",
   "metadata": {},
   "outputs": [],
   "source": [
    "price_range = pd.read_csv(filepath_or_buffer='csv_insights_exports/6/Price_range.csv')\n",
    "price_range['respondent_count'].plot.bar(xlabel=\"Ingredient\", ylabel=\"Respondent Count\", grid=False, title=\"Distribution of Respondent Count\")\n",
    "plt.xticks(ticks=[0,1,2,3], labels=list(price_range.Price_range), rotation = 20);\n",
    "plt.xlabel('Price Range', fontsize=16, labelpad=20)\n",
    "plt.ylabel('Respondent Count', fontsize=16, labelpad=20)"
   ]
  },
  {
   "cell_type": "code",
   "execution_count": null,
   "id": "8a2dd975",
   "metadata": {},
   "outputs": [],
   "source": [
    "limited_edition_packaging = pd.read_csv(filepath_or_buffer='csv_insights_exports/6/Limited_edition_packaging.csv')\n",
    "plt.pie(limited_edition_packaging['respondent_count'], autopct='%1.1f%%')\n",
    "plt.legend(limited_edition_packaging['Limited_edition_packaging'], loc=\"upper right\", bbox_to_anchor=(0.7, 0.5, 0.5, 0.5))"
   ]
  },
  {
   "cell_type": "markdown",
   "id": "ac94291c",
   "metadata": {},
   "source": [
    "# 7"
   ]
  },
  {
   "cell_type": "code",
   "execution_count": null,
   "id": "f9cf1d7d",
   "metadata": {},
   "outputs": [],
   "source": [
    "# 7-----------------------------------------------------------------------\n",
    "# Brand reputation is the primary reason for customers choosing one of the current market leaders as their \n",
    "# energy drink brand, however, they have had decades worth exposure to build this reputation wheras its been only months\n",
    "# since codex entered the market. Thus, trying to upfront compete with market leaders in this domain would be difficult.\n",
    "# But, lets pay attention to the second main reason customers choose the market leaders, which is the taste/flavor of the drink.\n",
    "# Now from the data we see that there is a general opinion among consumers to reduce sugar content in the energy drinks while having access to a wider choice among a variety of flavors.\n",
    "# So although taste/flavor is a big factor towards brand preference among the market leaders, there is still a value gap in the taste and flavors of energy drinks currently\n",
    "# in the market. Hence, our primary focus should be on taking advantage of this value gap. Also, if we focus our efforts\n",
    "# on adapting to customer demands in this way and adopt a customer-centric approach, we would also be building our own brand reputation\n",
    "# over time as one of the few brands that actually caters towards customer needs. \n",
    "\n",
    "# Now, the data shows that the primary reason preventing\n",
    "# consumers from trying our brand is due to our product not being available locally. \n",
    "# It also shows that most consumers typically purchase their energy drinks from supermarkets.\n",
    "# Noting availability as a contributing factor towards preference towards the market leaders,\n",
    "# we should also focus on making our product available for physical purchase through supermarkets, gyms/fitness centers, and local stores.\n",
    "# This is likely to result in more consumers trying our brand, gaining market share, and could result in them switching to our brand."
   ]
  },
  {
   "cell_type": "code",
   "execution_count": null,
   "id": "89919561",
   "metadata": {},
   "outputs": [],
   "source": [
    "market_leaders_reasons['respondent_count'].plot.bar(xlabel=\"Ingredient\", ylabel=\"Respondent Count\", grid=False, title=\"Distribution of Respondent Count\")\n",
    "plt.xticks(ticks=[0, 1, 2, 3, 4], labels=list(market_leaders_reasons.reasons_for_choosing_brands), rotation = 30);\n",
    "plt.xlabel('Reasons for Choosing Brands', fontsize=16, labelpad=20)\n",
    "plt.ylabel('Respondent Count', fontsize=16, labelpad=20)"
   ]
  },
  {
   "cell_type": "code",
   "execution_count": null,
   "id": "0f0b100c",
   "metadata": {},
   "outputs": [],
   "source": [
    "reasons_preventing_trying['respondent_count'].plot.bar(xlabel=\"Ingredient\", ylabel=\"Respondent Count\", grid=False, title=\"Distribution of Respondent Count\")\n",
    "plt.xticks(ticks=[0, 1, 2, 3, 4], labels=list(reasons_preventing_trying.Reasons_preventing_trying), rotation = 60);\n",
    "plt.xlabel('Reasons Preventing Trying', fontsize=16, labelpad=20)\n",
    "plt.ylabel('Respondent Count', fontsize=16, labelpad=20)"
   ]
  },
  {
   "cell_type": "code",
   "execution_count": null,
   "id": "0f875435",
   "metadata": {},
   "outputs": [],
   "source": [
    "purchase_location['respondent_count'].plot.bar(xlabel=\"Ingredient\", ylabel=\"Respondent Count\", grid=False, title=\"Distribution of Respondent Count\")\n",
    "plt.xticks(ticks=[0,1,2,3,4], labels=list(purchase_location.purchase_location), rotation = 50);\n",
    "plt.xlabel('Purchase Location', fontsize=16, labelpad=20)\n",
    "plt.ylabel('Respondent Count', fontsize=16, labelpad=20)"
   ]
  },
  {
   "cell_type": "code",
   "execution_count": null,
   "id": "a0f06ff6",
   "metadata": {},
   "outputs": [],
   "source": [
    "plt.pie(improvements_desired['respondent_count'], autopct='%1.1f%%')\n",
    "plt.legend(improvements_desired['Improvements_desired'], loc=\"upper right\", bbox_to_anchor=(1, 0.5, 0.5, 0.5))"
   ]
  },
  {
   "cell_type": "code",
   "execution_count": null,
   "id": "2cf27483",
   "metadata": {},
   "outputs": [],
   "source": [
    "avg_experience"
   ]
  },
  {
   "cell_type": "code",
   "execution_count": null,
   "id": "f7754d6d",
   "metadata": {},
   "outputs": [],
   "source": [
    "plt.pie(brand_perception['respondent_count'], autopct='%1.1f%%')\n",
    "plt.legend(brand_perception['Brand_perception'], loc=\"upper right\", bbox_to_anchor=(0.7, 0.5, 0.5, 0.5))"
   ]
  },
  {
   "cell_type": "markdown",
   "id": "02d58b4a",
   "metadata": {},
   "source": [
    "# Extra Viz"
   ]
  },
  {
   "cell_type": "code",
   "execution_count": null,
   "id": "5940b63a",
   "metadata": {},
   "outputs": [],
   "source": [
    "sns.boxplot(data=full_data, x=\"Taste_experience\", y=\"City\", orient=\"h\")#\n",
    "plt.title(\"Boxplot of Taste experience wrt Gender\")\n",
    "plt.yticks(ticks=[0, 1, 2, 3, 4, 5, 6, 7, 8, 9], labels=full_data.City.unique());"
   ]
  },
  {
   "cell_type": "code",
   "execution_count": null,
   "id": "22944ebf",
   "metadata": {},
   "outputs": [],
   "source": [
    "sns.boxplot(data=full_data, x=\"Taste_experience\", y=\"Gender\", orient=\"h\")#\n",
    "plt.title(\"Boxplot of Taste experience wrt Gender\")\n",
    "plt.yticks(ticks=[0, 1, 2], labels=full_data.Gender.unique());"
   ]
  },
  {
   "cell_type": "code",
   "execution_count": null,
   "id": "493dfe77",
   "metadata": {},
   "outputs": [],
   "source": [
    "sns.pointplot(data=full_data, y=\"Taste_experience\", x=\"Gender\", ci=False)\n",
    "plt.title(\"Pointplot of Taste Experience against Gender\");"
   ]
  }
 ],
 "metadata": {
  "kernelspec": {
   "display_name": "Python 3 (ipykernel)",
   "language": "python",
   "name": "python3"
  },
  "language_info": {
   "codemirror_mode": {
    "name": "ipython",
    "version": 3
   },
   "file_extension": ".py",
   "mimetype": "text/x-python",
   "name": "python",
   "nbconvert_exporter": "python",
   "pygments_lexer": "ipython3",
   "version": "3.10.11"
  }
 },
 "nbformat": 4,
 "nbformat_minor": 5
}
